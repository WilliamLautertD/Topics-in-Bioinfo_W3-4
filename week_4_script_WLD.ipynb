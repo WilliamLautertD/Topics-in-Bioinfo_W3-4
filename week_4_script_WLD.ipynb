{
 "cells": [
  {
   "cell_type": "markdown",
   "id": "2af8f393",
   "metadata": {},
   "source": [
    "### Topics in Bioinformatics Human Evolution Part 2\n",
    "Write a program that, for a given list of individuals:\n",
    "1. determines the observed and expected frequency of heterozygotes at every SNP and calculates the difference\n",
    "2. writes to a file:\n",
    "- the observed heterozygosity for each SNP\n",
    "- the expected heterozygosity for each SNP\n",
    "- and the mean difference between observed and expected for each SNP\n",
    "- The mean of each of these (obs,exp,diff) for the population"
   ]
  },
  {
   "cell_type": "markdown",
   "id": "711cb332",
   "metadata": {},
   "source": [
    "##### Loading files\n",
    "- Load file\n",
    "- Filters a VCF file to include only the specified samples using cyvcf2\n",
    "- Save three new vcf files for each population"
   ]
  },
  {
   "cell_type": "code",
   "execution_count": null,
   "id": "fc43b79e",
   "metadata": {},
   "outputs": [
    {
     "name": "stderr",
     "output_type": "stream",
     "text": [
      "[E::idx_find_and_load] Could not retrieve index file for 'week_3_4/data/ALL.chr22.phase3_shapeit2_mvncall_integrated_v5a.20130502.genotypes.vcf.gz'\n"
     ]
    }
   ],
   "source": [
    "# Load VCF\n",
    "vcf_in = VariantFile(\"week_3_4/data/ALL.chr22.phase3_shapeit2_mvncall_integrated_v5a.20130502.genotypes.vcf.gz\")\n",
    "vcf_header = str(vcf_in.header).split('\\n')[-2] "
   ]
  },
  {
   "cell_type": "code",
   "execution_count": null,
   "id": "6b0418af",
   "metadata": {},
   "outputs": [
    {
     "name": "stdout",
     "output_type": "stream",
     "text": [
      "Successfully filtered VCF and saved to week_3_4/data/filtered_EUR.vcf.gz\n"
     ]
    }
   ],
   "source": [
    "# Filtering VCF file to contain the EAS, EUR, and YRI pops\n",
    "from cyvcf2 import VCF, Writer\n",
    "\n",
    "def filter_vcf_by_samples_cyvcf2(input_vcf, output_vcf, samples_to_keep):\n",
    "    try:\n",
    "        vcf = VCF(input_vcf)\n",
    "        \n",
    "        # Check if the requested samples are in the VCF file.\n",
    "        # This is a good practice to avoid silent errors.\n",
    "        vcf_samples = set(vcf.samples)\n",
    "        requested_samples = set(samples_to_keep)\n",
    "        missing_samples = requested_samples - vcf_samples\n",
    "        if missing_samples:\n",
    "            print(f\"Warning: The following samples were not found in the VCF header: {', '.join(missing_samples)}\")\n",
    "        \n",
    "        # Set the samples to be included. This is the fix for the TypeError.\n",
    "        vcf.set_samples(samples_to_keep)\n",
    "        \n",
    "        w = Writer(output_vcf, vcf)\n",
    "        for rec in vcf:\n",
    "            w.write_record(rec)\n",
    "        w.close()\n",
    "        vcf.close()\n",
    "        print(f\"Successfully filtered VCF and saved to {output_vcf}\")\n",
    "\n",
    "    except Exception as e:\n",
    "        print(f\"An error occurred: {e}\")\n",
    "\n",
    "# Implementation\n",
    "\n",
    "# Load population panel\n",
    "pops = pd.read_table(\"week_3_4/data/integrated_call_samples_v3.20130502.ALL.panel\", sep=\"\\t\")\n",
    "\n",
    "# Define samples for each population\n",
    "YRI = list(set(pops[pops['pop'] == 'YRI']['sample']))\n",
    "EAS = list(set(pops[pops['super_pop'] == 'EAS']['sample']))\n",
    "EUR = list(set(pops[pops['super_pop'] == 'EUR']['sample']))\n",
    "\n",
    "#Filter for each Population\n",
    "filter_vcf_by_samples_cyvcf2(input_vcf_file, \"week_3_4/data/filtered_YRI.vcf.gz\", YRI)\n",
    "filter_vcf_by_samples_cyvcf2(input_vcf_file, \"week_3_4/data/filtered_EAS.vcf.gz\", EAS)\n",
    "filter_vcf_by_samples_cyvcf2(input_vcf_file, \"week_3_4/data/filtered_EUR.vcf.gz\", EUR)\n"
   ]
  },
  {
   "cell_type": "markdown",
   "id": "d16263fa",
   "metadata": {},
   "source": [
    "#### Function heterozygosity\n",
    "\n",
    "Determines the observed and expected frequency of heterozygotes at every SNP and calculates the difference"
   ]
  },
  {
   "cell_type": "code",
   "execution_count": 22,
   "id": "82033e09",
   "metadata": {},
   "outputs": [
    {
     "name": "stdout",
     "output_type": "stream",
     "text": [
      "Heterozygosity statistics saved to week_3_4/data/filtered_EUR_Heterozygosity.tsv\n",
      "\n",
      "Mean Difference (Ho - He) across all SNPs: 0.015414\n",
      "Heterozygosity statistics saved to week_3_4/data/filtered_EAS_Heterozygosity.tsv\n",
      "\n",
      "Mean Difference (Ho - He) across all SNPs: 0.013931\n",
      "Heterozygosity statistics saved to week_3_4/data/filtered_YRI_Heterozygosity.tsv\n",
      "\n",
      "Mean Difference (Ho - He) across all SNPs: 0.015414\n"
     ]
    }
   ],
   "source": [
    "from cyvcf2 import VCF\n",
    "import numpy as np\n",
    "import csv\n",
    "\n",
    "def heterozygosity(input_vcf, output_het_stats):\n",
    "    try:\n",
    "        vcf_reader = VCF(input_vcf)\n",
    "    \n",
    "    # List to store differences for mean calculation\n",
    "        ho_he_differences = []\n",
    "\n",
    "        with open(output_het_stats, 'w', newline='') as tsvfile:\n",
    "            writer = csv.writer(tsvfile, delimiter='\\t')\n",
    "        \n",
    "            # Write the header row\n",
    "            writer.writerow(['CHROM', 'POS', 'REF', 'ALT', 'Ho (Observed Het)', 'He (Expected Het)', 'Ho - He Difference'])\n",
    "\n",
    "            for variant in vcf_reader:\n",
    "                # 1. Get Genotype Data\n",
    "                gt_types = variant.gt_types # 0=hom-ref, 1=het, 2=hom-alt, 3=missing\n",
    "            \n",
    "                # 2. Identify non-missing genotypes\n",
    "                non_missing_mask = (gt_types != 3)\n",
    "                gt_types_valid = gt_types[non_missing_mask]\n",
    "                num_non_missing_samples = np.sum(non_missing_mask)\n",
    "            \n",
    "                if num_non_missing_samples == 0:\n",
    "                    continue # Skip site if all genotypes are missing\n",
    "\n",
    "                # --------------------------------------------------------\n",
    "                # a. Calculate Observed Heterozygosity ($H_o$)\n",
    "                # Ho = (Number of heterozygous samples) / (Total number of non-missing samples)\n",
    "                # --------------------------------------------------------\n",
    "            \n",
    "                # Count the number of '1's (heterozygous genotypes)\n",
    "                num_hets = np.sum(gt_types_valid == 1)\n",
    "                H_o = num_hets / num_non_missing_samples\n",
    "\n",
    "                # --------------------------------------------------------\n",
    "                # b. Calculate Expected Heterozygosity ($H_e$)\n",
    "                # He = 2 * p * q, where p = AF (Allele Frequency) and q = 1 - p\n",
    "                # --------------------------------------------------------\n",
    "            \n",
    "                # Calculate Allele Count (AC) and Allele Number (AN)\n",
    "                ac = (np.sum(gt_types_valid == 1) * 1) + (np.sum(gt_types_valid == 2) * 2)\n",
    "                an = num_non_missing_samples * 2\n",
    "            \n",
    "                p = ac / an # Allele Frequency (AF)\n",
    "                q = 1 - p\n",
    "\n",
    "                H_e = 2 * p * q\n",
    "\n",
    "                # --------------------------------------------------------\n",
    "                # c. Calculate Difference and Store for Mean\n",
    "                # --------------------------------------------------------\n",
    "                diff = H_o - H_e\n",
    "                ho_he_differences.append(diff)\n",
    "\n",
    "                # 3. Write results to the TSV file\n",
    "                writer.writerow([\n",
    "                    variant.CHROM,\n",
    "                    variant.POS,\n",
    "                    variant.REF,\n",
    "                    variant.ALT[0],\n",
    "                    f\"{H_o:.6f}\",\n",
    "                    f\"{H_e:.6f}\",\n",
    "                    f\"{diff:.6f}\"\n",
    "                ])\n",
    "\n",
    "        vcf_reader.close()\n",
    "    \n",
    "        # Calculate the mean difference across all SNPs\n",
    "        mean_diff = np.mean(ho_he_differences) if ho_he_differences else 0\n",
    "\n",
    "        print(f\"Heterozygosity statistics saved to {output_het_stats}\")\n",
    "        print(f\"\\nMean Difference (Ho - He) across all SNPs: {mean_diff:.6f}\")\n",
    "        return mean_diff\n",
    "\n",
    "    except Exception as e:\n",
    "        print(f\"An error occurred: {e}\")\n",
    "\n",
    "het_EUR = heterozygosity(\"week_3_4/data/filtered_YRI.vcf.gz\", \"week_3_4/data/filtered_EUR_Heterozygosity.tsv\")\n",
    "het_EAS = heterozygosity(\"week_3_4/data/filtered_EAS.vcf.gz\", \"week_3_4/data/filtered_EAS_Heterozygosity.tsv\")\n",
    "het_YRI = heterozygosity(\"week_3_4/data/filtered_YRI.vcf.gz\", \"week_3_4/data/filtered_YRI_Heterozygosity.tsv\")"
   ]
  },
  {
   "cell_type": "code",
   "execution_count": null,
   "id": "71e45ba1",
   "metadata": {},
   "outputs": [
    {
     "name": "stdout",
     "output_type": "stream",
     "text": [
      "\n",
      " All mean differences saved to single summary file: week_3_4/data/population_het_summary.tsv\n",
      "\n",
      "--- Summary of Mean Ho - He Difference ---\n",
      "EUR Mean Difference: 0.015414\n",
      "EAS Mean Difference: 0.013931\n",
      "YRI Mean Difference: 0.015414\n"
     ]
    }
   ],
   "source": [
    "summary_output_file = \"week_3_4/data/population_het_summary.tsv\"\n",
    "summary_data = [\n",
    "    (\"EUR\", het_EUR),\n",
    "    (\"EAS\", het_EAS),\n",
    "    (\"YRI\", het_YRI)\n",
    "]\n",
    "\n",
    "try:\n",
    "    with open(summary_output_file, 'w', newline='') as sumfile:\n",
    "        summary_writer = csv.writer(sumfile, delimiter='\\t')\n",
    "        \n",
    "        # Write header\n",
    "        summary_writer.writerow(['Population', 'Mean_Ho_minus_He'])\n",
    "        \n",
    "        # Write data rows\n",
    "        for pop, mean_diff in summary_data:\n",
    "            summary_writer.writerow([pop, f\"{mean_diff:.6f}\"])\n",
    "\n",
    "    print(f\"\\n All mean differences saved to single summary file: {summary_output_file}\")\n",
    "except Exception as e:\n",
    "    print(f\" Error writing summary file: {e}\")\n",
    "\n",
    "\n",
    "print(\"\\n--- Summary of Mean Ho - He Difference ---\")\n",
    "print(f\"EUR Mean Difference: {het_EUR:.6f}\")\n",
    "print(f\"EAS Mean Difference: {het_EAS:.6f}\")\n",
    "print(f\"YRI Mean Difference: {het_YRI:.6f}\")\n"
   ]
  },
  {
   "cell_type": "code",
   "execution_count": null,
   "id": "4689fd2b",
   "metadata": {},
   "outputs": [],
   "source": []
  }
 ],
 "metadata": {
  "kernelspec": {
   "display_name": "base",
   "language": "python",
   "name": "python3"
  },
  "language_info": {
   "codemirror_mode": {
    "name": "ipython",
    "version": 3
   },
   "file_extension": ".py",
   "mimetype": "text/x-python",
   "name": "python",
   "nbconvert_exporter": "python",
   "pygments_lexer": "ipython3",
   "version": "3.9.23"
  }
 },
 "nbformat": 4,
 "nbformat_minor": 5
}
